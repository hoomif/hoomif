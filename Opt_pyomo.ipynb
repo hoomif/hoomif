{
  "nbformat": 4,
  "nbformat_minor": 0,
  "metadata": {
    "colab": {
      "provenance": []
    },
    "kernelspec": {
      "name": "python3",
      "display_name": "Python 3"
    },
    "language_info": {
      "name": "python"
    }
  },
  "cells": [
    {
      "cell_type": "code",
      "metadata": {
        "id": "71bC_tcM5V3b"
      },
      "source": [
        "!pip install -q pyomo\n",
        "!apt-get install -y -qq glpk-utils"
      ],
      "execution_count": null,
      "outputs": []
    },
    {
      "cell_type": "code",
      "metadata": {
        "id": "qk3FvHg65v6D"
      },
      "source": [
        "from pyomo.environ import *\n",
        "import numpy as np"
      ],
      "execution_count": null,
      "outputs": []
    },
    {
      "cell_type": "markdown",
      "source": [
        "Defining Parameters"
      ],
      "metadata": {
        "id": "wDkNvHSgd6E3"
      }
    },
    {
      "cell_type": "code",
      "metadata": {
        "id": "QiTziSK-6RaN",
        "colab": {
          "base_uri": "https://localhost:8080/"
        },
        "outputId": "87cc6be7-31a0-4299-c882-77d0d3a52e2e"
      },
      "source": [
        "P_max = np.array([75,50,100])\n",
        "P_max"
      ],
      "execution_count": null,
      "outputs": [
        {
          "output_type": "execute_result",
          "data": {
            "text/plain": [
              "array([ 75,  50, 100])"
            ]
          },
          "metadata": {
            "tags": []
          },
          "execution_count": 3
        }
      ]
    },
    {
      "cell_type": "code",
      "metadata": {
        "id": "MuBOH1iz7i8C",
        "colab": {
          "base_uri": "https://localhost:8080/"
        },
        "outputId": "5d53cbd6-b62f-4ffa-b9ad-be944ac51e2e"
      },
      "source": [
        "demand = 50 + 150*(np.random.rand(24))\n",
        "demand"
      ],
      "execution_count": null,
      "outputs": [
        {
          "output_type": "execute_result",
          "data": {
            "text/plain": [
              "array([ 97.84842609, 139.93108572, 166.49524957, 193.6544347 ,\n",
              "       154.26937902, 178.64706474,  70.47771021, 101.62842885,\n",
              "        82.21981854, 154.98247126,  82.0471033 , 145.65920377,\n",
              "        66.1238456 , 132.24014275,  66.1057766 , 155.15553943,\n",
              "       104.40012084,  74.85178515, 109.32892403, 116.94847811,\n",
              "       126.05074763, 134.08098626,  62.00900114, 174.41564056])"
            ]
          },
          "metadata": {
            "tags": []
          },
          "execution_count": 4
        }
      ]
    },
    {
      "cell_type": "code",
      "metadata": {
        "id": "LOFL2hkW9eZj"
      },
      "source": [
        "Cost_NL = 5 * (np.random.rand(3))\n",
        "Cost_s = 7 * (np.random.rand(3))\n",
        "Cost_p = 10 * (np.random.rand(3))"
      ],
      "execution_count": null,
      "outputs": []
    },
    {
      "cell_type": "markdown",
      "metadata": {
        "id": "zGNQKjJHDGUf"
      },
      "source": [
        "Defining Model"
      ]
    },
    {
      "cell_type": "code",
      "metadata": {
        "id": "79DLovwR76HA"
      },
      "source": [
        "model = ConcreteModel()"
      ],
      "execution_count": null,
      "outputs": []
    },
    {
      "cell_type": "markdown",
      "metadata": {
        "id": "5hVTR1WyDJXl"
      },
      "source": [
        "Defining sets"
      ]
    },
    {
      "cell_type": "code",
      "metadata": {
        "id": "ZJIk2KaoCdXN"
      },
      "source": [
        "model.T=Set(initialize=range(24)) #timeslot\n",
        "model.G=Set(initialize=range(3))  #generators"
      ],
      "execution_count": null,
      "outputs": []
    },
    {
      "cell_type": "markdown",
      "metadata": {
        "id": "P7AoVtNSDMKZ"
      },
      "source": [
        "Defining variables"
      ]
    },
    {
      "cell_type": "code",
      "metadata": {
        "id": "lbsPbN868A9h"
      },
      "source": [
        "model.p = Var(model.G,model.T,within = NonNegativeReals)\n",
        "model.u_start = Var(model.G,model.T, within = Binary)\n",
        "model.u_state = Var(model.G,model.T, within = Binary)"
      ],
      "execution_count": null,
      "outputs": []
    },
    {
      "cell_type": "code",
      "metadata": {
        "id": "9eSXWUjUDlDR"
      },
      "source": [
        "def c1(model,t):\n",
        "    return sum([model.p[g,t] for g in model.G]) == demand[t]\n",
        "\n",
        "def c2(model, g, t):\n",
        "    return model.p[g,t] <= model.u_state[g,t]*P_max[g]\n",
        "\n",
        "def c3(model, g, t):\n",
        "    if t >= 1:\n",
        "        return model.u_state[g,t] - model.u_state[g,t-1] <= model.u_state[g,t] \n",
        "    else:\n",
        "        return model.u_state[g,t] <= model.u_state[g,t]\n",
        "\n",
        "model.Con1 = Constraint(model.T, rule=c1) \n",
        "model.Con2 = Constraint(model.G, model.T, rule=c2)\n",
        "model.Con3 = Constraint(model.G, model.T, rule=c3)"
      ],
      "execution_count": null,
      "outputs": []
    },
    {
      "cell_type": "code",
      "metadata": {
        "id": "2bxigg-5OyvB"
      },
      "source": [
        "def obj(model):\n",
        "  return sum(sum(Cost_p[g]*model.p[g,t] + Cost_s[g]*model.u_start[g,t] + Cost_NL[g]*model.u_state[g,t] for g in model.G) for t in model.T)\n",
        "model.OF = Objective(rule=obj, sense=minimize)"
      ],
      "execution_count": null,
      "outputs": []
    },
    {
      "cell_type": "code",
      "metadata": {
        "id": "QtsM4-4-QfIH",
        "colab": {
          "base_uri": "https://localhost:8080/"
        },
        "outputId": "8b949a13-ed74-41b0-b340-5e0c2bff3750"
      },
      "source": [
        "solver = SolverFactory('glpk')\n",
        "solver.solve(model)"
      ],
      "execution_count": null,
      "outputs": [
        {
          "output_type": "execute_result",
          "data": {
            "text/plain": [
              "{'Problem': [{'Name': 'unknown', 'Lower bound': 12630.1450493989, 'Upper bound': 12630.1450493989, 'Number of objectives': 1, 'Number of constraints': 169, 'Number of variables': 217, 'Number of nonzeros': 286, 'Sense': 'minimize'}], 'Solver': [{'Status': 'ok', 'Termination condition': 'optimal', 'Statistics': {'Branch and bound': {'Number of bounded subproblems': '19', 'Number of created subproblems': '19'}}, 'Error rc': 0, 'Time': 0.015308141708374023}], 'Solution': [OrderedDict([('number of solutions', 0), ('number of solutions displayed', 0)])]}"
            ]
          },
          "metadata": {
            "tags": []
          },
          "execution_count": 11
        }
      ]
    },
    {
      "cell_type": "code",
      "metadata": {
        "id": "ohIkzT5EmMBv"
      },
      "source": [
        "import matplotlib.pyplot as plt\n",
        "import pandas as pd"
      ],
      "execution_count": null,
      "outputs": []
    },
    {
      "cell_type": "code",
      "metadata": {
        "id": "JWKnisU0QnO_",
        "colab": {
          "base_uri": "https://localhost:8080/",
          "height": 374
        },
        "outputId": "a2871fa5-4a8a-41a1-e09d-d3450a236f01"
      },
      "source": [
        "P = np.zeros((3,24))\n",
        "\n",
        "for g in range(3):\n",
        "    P[g] = [np.round(model.p[g,t].value,3) for t in range(24)]\n",
        "    \n",
        "G = pd.DataFrame(P, index=['G1','G2','G3'])\n",
        "G    \n",
        "plt.figure(figsize=(12,6))\n",
        "plt.subplot(3,1,1)\n",
        "plt.step(range(0,24),P[0])\n",
        "plt.subplot(3,1,2)\n",
        "plt.step(range(0,24),P[1])\n",
        "plt.subplot(3,1,3)\n",
        "plt.step(range(0,24),P[2])\n",
        "\n",
        "plt.show()"
      ],
      "execution_count": null,
      "outputs": [
        {
          "output_type": "display_data",
          "data": {
            "image/png": "[encoded data removed]",
            "text/plain": [
              "<Figure size 864x432 with 3 Axes>"
            ]
          },
          "metadata": {
            "tags": [],
            "needs_background": "light"
          }
        }
      ]
    }
  ]
}